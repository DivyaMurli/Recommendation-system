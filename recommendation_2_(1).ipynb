{
  "nbformat": 4,
  "nbformat_minor": 0,
  "metadata": {
    "colab": {
      "provenance": []
    },
    "kernelspec": {
      "name": "python3",
      "display_name": "Python 3"
    },
    "language_info": {
      "name": "python"
    }
  },
  "cells": [
    {
      "cell_type": "code",
      "execution_count": null,
      "metadata": {
        "id": "pfymlSonuPr1"
      },
      "outputs": [],
      "source": [
        "import pandas as pd\n",
        "from sklearn.feature_extraction.text import TfidfVectorizer\n",
        "from sklearn.metrics.pairwise import linear_kernel\n",
        "\n",
        "#  dataset\n",
        "startup_data = pd.DataFrame({\n",
        "    'startup_name': ['Aadar', 'Vedix', 'Ayuga','Bibo','panthanjali','mama earth'],\n",
        "    'description': ['  Addar is an Ayurveda healthcare company that develops natural, effective products in-house.', ' first brand offering personalized ayurvedic haircare and skincare regimen', 'Internet first brand offering ayurvedic multi-category beauty products','Creates sustainable products with extracts of plants, cold pressed oils, natural plant butter','company that sells ayurvedic medicine and beauty products','Mamaearth is an Indian startup in the beauty care industry']\n",
        "})\n",
        "\n",
        "product_data = pd.DataFrame({\n",
        "    'product_name': ['oil', 'face wash', 'Shampoos','serum','tooth paste','oil'],\n",
        "    'description': ['Ayurvedic oil is made by combining herbal extracts with a carrier oil, such as coconut oil, sesame oil, or almond oil.', 'Help to moisturize the skin, reduce wrinkles, and improve acne','Ayurvedic shampoo is made with natural ingredients, such as amla, neem, shikakai, and brahmi','Ayurvedic serum is lightweight and absorbs quickly into the skin, without leaving a greasy residue','Toothpaste is a paste or gel used to clean teeth and freshen breath.','yurvedic oil can help to improve hair growth, prevent hair loss, and treat dandruff']})\n",
        "\n",
        "\n",
        "# Create TF-IDF vectors for product descriptions\n",
        "tfidf_vectorizer = TfidfVectorizer()\n",
        "product_tfidf_matrix = tfidf_vectorizer.fit_transform(product_data['description'])\n",
        "\n",
        "# Calculate cosine similarity between products based on descriptions\n",
        "cosine_similarities = linear_kernel(product_tfidf_matrix, product_tfidf_matrix)"
      ]
    },
    {
      "cell_type": "code",
      "source": [
        "# Function to recommend startups based on a product name\n",
        "def recommend_startups(product_name, num_recommendations=5):\n",
        "    product_index = product_data[product_data['product_name'] == product_name].index[0]\n",
        "    similarity_scores = list(enumerate(cosine_similarities[product_index]))\n",
        "    similarity_scores = sorted(similarity_scores, key=lambda x: x[1], reverse=True)\n",
        "    top_recommendations = similarity_scores[1:num_recommendations+1]  # Exclude the product itself\n",
        "\n",
        "    recommended_startups = []\n",
        "    for idx, score in top_recommendations:\n",
        "        recommended_startups.append({\n",
        "            'startup_name': startup_data.iloc[idx]['startup_name'],\n",
        "            'description': startup_data.iloc[idx]['description'],\n",
        "            'similarity_score': score\n",
        "        })\n",
        "\n",
        "    return recommended_startups"
      ],
      "metadata": {
        "id": "HYkpdds7uXtk"
      },
      "execution_count": null,
      "outputs": []
    },
    {
      "cell_type": "code",
      "source": [
        "# Example usage:\n",
        "product_name = 'oil'\n",
        "recommendations = recommend_startups(product_name, num_recommendations=3)\n",
        "print(f\"Recommended startups for {product_name}:\")\n",
        "for rec in recommendations:\n",
        "    print(f\"Startup: {rec['startup_name']} (Similarity Score: {rec['similarity_score']:.2f})\")"
      ],
      "metadata": {
        "colab": {
          "base_uri": "https://localhost:8080/"
        },
        "id": "nwqG2vOauflH",
        "outputId": "faec8379-e9b9-467c-a8b7-d352e702f8e9"
      },
      "execution_count": null,
      "outputs": [
        {
          "output_type": "stream",
          "name": "stdout",
          "text": [
            "Recommended startups for oil:\n",
            "Startup: Ayuga (Similarity Score: 0.20)\n",
            "Startup: mama earth (Similarity Score: 0.17)\n",
            "Startup: panthanjali (Similarity Score: 0.06)\n"
          ]
        }
      ]
    }
  ]
}